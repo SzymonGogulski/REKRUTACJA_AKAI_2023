{
  "nbformat": 4,
  "nbformat_minor": 0,
  "metadata": {
    "colab": {
      "provenance": [],
      "authorship_tag": "ABX9TyMbmbdPsE775CHt5rbB4bKG",
      "include_colab_link": true
    },
    "kernelspec": {
      "name": "python3",
      "display_name": "Python 3"
    },
    "language_info": {
      "name": "python"
    }
  },
  "cells": [
    {
      "cell_type": "markdown",
      "metadata": {
        "id": "view-in-github",
        "colab_type": "text"
      },
      "source": [
        "<a href=\"https://colab.research.google.com/github/SzymonGogulski/REKRUTACJA_AKAI_2023/blob/main/Models/1_Test_MNIST.ipynb\" target=\"_parent\"><img src=\"https://colab.research.google.com/assets/colab-badge.svg\" alt=\"Open In Colab\"/></a>"
      ]
    },
    {
      "cell_type": "markdown",
      "source": [
        "# **Import statements and loading data**"
      ],
      "metadata": {
        "id": "4Xcl9DDCkmu-"
      }
    },
    {
      "cell_type": "code",
      "execution_count": null,
      "metadata": {
        "id": "MpTGZp48iA7N"
      },
      "outputs": [],
      "source": [
        "from tensorflow import keras\n",
        "from tensorflow.keras.datasets import mnist\n",
        "from tensorflow.keras import layers\n",
        "import numpy as np\n",
        "import pandas as pd\n",
        "import matplotlib.pyplot as plt\n",
        "\n",
        "\n",
        "(X_train, y_train), (X_test, y_test) = mnist.load_data()"
      ]
    },
    {
      "cell_type": "code",
      "source": [
        "print(X_train.shape)\n",
        "plt.imshow(X_train[0], cmap=\"binary\")"
      ],
      "metadata": {
        "colab": {
          "base_uri": "https://localhost:8080/",
          "height": 465
        },
        "id": "g07sn3KzkufG",
        "outputId": "dbb7fbdb-6f12-422d-816d-f4b7e153043c"
      },
      "execution_count": null,
      "outputs": [
        {
          "output_type": "stream",
          "name": "stdout",
          "text": [
            "(60000, 28, 28)\n"
          ]
        },
        {
          "output_type": "execute_result",
          "data": {
            "text/plain": [
              "<matplotlib.image.AxesImage at 0x7bce7b9d8730>"
            ]
          },
          "metadata": {},
          "execution_count": 11
        },
        {
          "output_type": "display_data",
          "data": {
            "text/plain": [
              "<Figure size 640x480 with 1 Axes>"
            ],
            "image/png": "[encoded data removed]"
          },
          "metadata": {}
        }
      ]
    },
    {
      "cell_type": "markdown",
      "source": [
        "Data was loaded correctly"
      ],
      "metadata": {
        "id": "p0KyN_zMNx7A"
      }
    },
    {
      "cell_type": "markdown",
      "source": [
        "# **Check if training data is balanced**"
      ],
      "metadata": {
        "id": "sdDDiDj1sEgW"
      }
    },
    {
      "cell_type": "code",
      "source": [
        "s = pd.Series(y_train)\n",
        "s = s.value_counts()\n",
        "s = s.sort_index()\n",
        "print(s)\n",
        "\n",
        "plt.bar(range(10), s)\n",
        "plt.title(\"Distribution of classes\")\n",
        "x = range(10)\n",
        "plt.xticks(x)\n",
        "plt.show()\n"
      ],
      "metadata": {
        "colab": {
          "base_uri": "https://localhost:8080/",
          "height": 643
        },
        "id": "ReSiL0mGsYJQ",
        "outputId": "5a9fdf0b-f8e3-4260-e36a-f5399e6088fd"
      },
      "execution_count": null,
      "outputs": [
        {
          "output_type": "stream",
          "name": "stdout",
          "text": [
            "0    5923\n",
            "1    6742\n",
            "2    5958\n",
            "3    6131\n",
            "4    5842\n",
            "5    5421\n",
            "6    5918\n",
            "7    6265\n",
            "8    5851\n",
            "9    5949\n",
            "dtype: int64\n"
          ]
        },
        {
          "output_type": "display_data",
          "data": {
            "text/plain": [
              "<Figure size 640x480 with 1 Axes>"
            ],
            "image/png": "[encoded data removed]"
          },
          "metadata": {}
        }
      ]
    },
    {
      "cell_type": "markdown",
      "source": [
        "We're dealing with a balanced dataset"
      ],
      "metadata": {
        "id": "Cj3iySyr5x8I"
      }
    },
    {
      "cell_type": "markdown",
      "source": [
        "# **Define the model**"
      ],
      "metadata": {
        "id": "qXraB3A9sr5Q"
      }
    },
    {
      "cell_type": "code",
      "source": [
        "inputs = keras.Input(shape=(28, 28, 1))\n",
        "x = layers.Conv2D(filters=32, kernel_size=3, activation=\"relu\")(inputs)\n",
        "x = layers.MaxPooling2D(pool_size=2)(x)\n",
        "x = layers.Conv2D(filters=64, kernel_size=3, activation=\"relu\")(x)\n",
        "x = layers.MaxPooling2D(pool_size=2)(x)\n",
        "x = layers.Conv2D(filters=128, kernel_size=3, activation=\"relu\")(x)\n",
        "x = layers.Flatten()(x)\n",
        "outputs = layers.Dense(10, activation=\"softmax\")(x)\n",
        "model = keras.Model(inputs=inputs, outputs=outputs)\n",
        "\n",
        "model.compile(optimizer=\"rmsprop\", loss=\"sparse_categorical_crossentropy\", metrics=[\"accuracy\"])\n",
        "model.fit(X_train, y_train, epochs=5, batch_size=64)\n",
        "test_loss, test_acc = model.evaluate(X_test, y_test)\n",
        "\n",
        "print(f\"Test acc: {test_acc}\")\n"
      ],
      "metadata": {
        "id": "JCJ5XFkYJJtS",
        "colab": {
          "base_uri": "https://localhost:8080/"
        },
        "outputId": "b3f21a39-a7de-4949-9255-1057d6bc73d7"
      },
      "execution_count": null,
      "outputs": [
        {
          "output_type": "stream",
          "name": "stdout",
          "text": [
            "Epoch 1/5\n",
            "938/938 [==============================] - 58s 60ms/step - loss: 0.4069 - accuracy: 0.9480\n",
            "Epoch 2/5\n",
            "938/938 [==============================] - 56s 60ms/step - loss: 0.0553 - accuracy: 0.9844\n",
            "Epoch 3/5\n",
            "938/938 [==============================] - 56s 60ms/step - loss: 0.0402 - accuracy: 0.9887\n",
            "Epoch 4/5\n",
            "938/938 [==============================] - 58s 61ms/step - loss: 0.0346 - accuracy: 0.9908\n",
            "Epoch 5/5\n",
            "938/938 [==============================] - 57s 60ms/step - loss: 0.0285 - accuracy: 0.9929\n",
            "313/313 [==============================] - 4s 13ms/step - loss: 0.0586 - accuracy: 0.9876\n",
            "Test acc: 0.9876000285148621\n"
          ]
        }
      ]
    }
  ]
}